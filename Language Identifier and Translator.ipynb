{
 "cells": [
  {
   "cell_type": "markdown",
   "metadata": {},
   "source": [
    "## Connecting to IBM Cloud Language Translator"
   ]
  },
  {
   "cell_type": "code",
   "execution_count": 1,
   "metadata": {},
   "outputs": [],
   "source": [
    "from ibm_watson import LanguageTranslatorV3\n",
    "from ibm_cloud_sdk_core.authenticators import IAMAuthenticator\n",
    "import keyring #for values for apikey and url\n",
    "import simplejson as json"
   ]
  },
  {
   "cell_type": "code",
   "execution_count": 2,
   "metadata": {},
   "outputs": [],
   "source": [
    "# Getting API Key and Url for IBM Language Translator\n",
    "# Note I have already created a value for apikey and url by doing keyring.set_password(\"test\", \"secret_username\", \"secret_password\")\n",
    "apikey = keyring.get_password(\"ibm_language_translator\", \"apikey\")\n",
    "url = keyring.get_password(\"ibm_language_translator\", \"url\")\n",
    "version='2018-05-01'"
   ]
  },
  {
   "cell_type": "code",
   "execution_count": 3,
   "metadata": {},
   "outputs": [],
   "source": [
    "authenticator = IAMAuthenticator(apikey)\n",
    "language_translator = LanguageTranslatorV3(\n",
    "    version=version,\n",
    "    authenticator=authenticator\n",
    ")\n",
    "\n",
    "language_translator.set_service_url(url)"
   ]
  },
  {
   "cell_type": "markdown",
   "metadata": {},
   "source": [
    "## Language Identifier"
   ]
  },
  {
   "cell_type": "code",
   "execution_count": 4,
   "metadata": {},
   "outputs": [
    {
     "name": "stdout",
     "output_type": "stream",
     "text": [
      "{\n",
      "  \"languages\": [\n",
      "    {\n",
      "      \"language\": \"af\",\n",
      "      \"name\": \"Afrikaans\"\n",
      "    },\n",
      "    {\n",
      "      \"language\": \"ar\",\n",
      "      \"name\": \"Arabic\"\n",
      "    },\n",
      "    {\n",
      "      \"language\": \"az\",\n",
      "      \"name\": \"Azerbaijani\"\n",
      "    },\n",
      "    {\n",
      "      \"language\": \"ba\",\n",
      "      \"name\": \"Bashkir\"\n",
      "    },\n",
      "    {\n",
      "      \"language\": \"be\",\n",
      "      \"name\": \"Belarusian\"\n",
      "    },\n",
      "    {\n",
      "      \"language\": \"bg\",\n",
      "      \"name\": \"Bulgarian\"\n",
      "    },\n",
      "    {\n",
      "      \"language\": \"bn\",\n",
      "      \"name\": \"Bengali\"\n",
      "    },\n",
      "    {\n",
      "      \"language\": \"ca\",\n",
      "      \"name\": \"Catalan\"\n",
      "    },\n",
      "    {\n",
      "      \"language\": \"cs\",\n",
      "      \"name\": \"Czech\"\n",
      "    },\n",
      "    {\n",
      "      \"language\": \"cv\",\n",
      "      \"name\": \"Chuvash\"\n",
      "    },\n",
      "    {\n",
      "      \"language\": \"cy\",\n",
      "      \"name\": \"Welsh\"\n",
      "    },\n",
      "    {\n",
      "      \"language\": \"da\",\n",
      "      \"name\": \"Danish\"\n",
      "    },\n",
      "    {\n",
      "      \"language\": \"de\",\n",
      "      \"name\": \"German\"\n",
      "    },\n",
      "    {\n",
      "      \"language\": \"el\",\n",
      "      \"name\": \"Greek\"\n",
      "    },\n",
      "    {\n",
      "      \"language\": \"en\",\n",
      "      \"name\": \"English\"\n",
      "    },\n",
      "    {\n",
      "      \"language\": \"eo\",\n",
      "      \"name\": \"Esperanto\"\n",
      "    },\n",
      "    {\n",
      "      \"language\": \"es\",\n",
      "      \"name\": \"Spanish\"\n",
      "    },\n",
      "    {\n",
      "      \"language\": \"et\",\n",
      "      \"name\": \"Estonian\"\n",
      "    },\n",
      "    {\n",
      "      \"language\": \"eu\",\n",
      "      \"name\": \"Basque\"\n",
      "    },\n",
      "    {\n",
      "      \"language\": \"fa\",\n",
      "      \"name\": \"Persian\"\n",
      "    },\n",
      "    {\n",
      "      \"language\": \"fi\",\n",
      "      \"name\": \"Finnish\"\n",
      "    },\n",
      "    {\n",
      "      \"language\": \"fr\",\n",
      "      \"name\": \"French\"\n",
      "    },\n",
      "    {\n",
      "      \"language\": \"ga\",\n",
      "      \"name\": \"Irish\"\n",
      "    },\n",
      "    {\n",
      "      \"language\": \"gu\",\n",
      "      \"name\": \"Gujarati\"\n",
      "    },\n",
      "    {\n",
      "      \"language\": \"he\",\n",
      "      \"name\": \"Hebrew\"\n",
      "    },\n",
      "    {\n",
      "      \"language\": \"hi\",\n",
      "      \"name\": \"Hindi\"\n",
      "    },\n",
      "    {\n",
      "      \"language\": \"hr\",\n",
      "      \"name\": \"Croatian\"\n",
      "    },\n",
      "    {\n",
      "      \"language\": \"ht\",\n",
      "      \"name\": \"Haitian\"\n",
      "    },\n",
      "    {\n",
      "      \"language\": \"hu\",\n",
      "      \"name\": \"Hungarian\"\n",
      "    },\n",
      "    {\n",
      "      \"language\": \"hy\",\n",
      "      \"name\": \"Armenian\"\n",
      "    },\n",
      "    {\n",
      "      \"language\": \"is\",\n",
      "      \"name\": \"Icelandic\"\n",
      "    },\n",
      "    {\n",
      "      \"language\": \"it\",\n",
      "      \"name\": \"Italian\"\n",
      "    },\n",
      "    {\n",
      "      \"language\": \"ja\",\n",
      "      \"name\": \"Japanese\"\n",
      "    },\n",
      "    {\n",
      "      \"language\": \"ka\",\n",
      "      \"name\": \"Georgian\"\n",
      "    },\n",
      "    {\n",
      "      \"language\": \"kk\",\n",
      "      \"name\": \"Kazakh\"\n",
      "    },\n",
      "    {\n",
      "      \"language\": \"km\",\n",
      "      \"name\": \"Central Khmer\"\n",
      "    },\n",
      "    {\n",
      "      \"language\": \"ko\",\n",
      "      \"name\": \"Korean\"\n",
      "    },\n",
      "    {\n",
      "      \"language\": \"ku\",\n",
      "      \"name\": \"Kurdish\"\n",
      "    },\n",
      "    {\n",
      "      \"language\": \"ky\",\n",
      "      \"name\": \"Kirghiz\"\n",
      "    },\n",
      "    {\n",
      "      \"language\": \"lo\",\n",
      "      \"name\": \"Lao\"\n",
      "    },\n",
      "    {\n",
      "      \"language\": \"lt\",\n",
      "      \"name\": \"Lithuanian\"\n",
      "    },\n",
      "    {\n",
      "      \"language\": \"lv\",\n",
      "      \"name\": \"Latvian\"\n",
      "    },\n",
      "    {\n",
      "      \"language\": \"ml\",\n",
      "      \"name\": \"Malayalam\"\n",
      "    },\n",
      "    {\n",
      "      \"language\": \"mn\",\n",
      "      \"name\": \"Mongolian\"\n",
      "    },\n",
      "    {\n",
      "      \"language\": \"mr\",\n",
      "      \"name\": \"Marathi\"\n",
      "    },\n",
      "    {\n",
      "      \"language\": \"ms\",\n",
      "      \"name\": \"Malay\"\n",
      "    },\n",
      "    {\n",
      "      \"language\": \"mt\",\n",
      "      \"name\": \"Maltese\"\n",
      "    },\n",
      "    {\n",
      "      \"language\": \"my\",\n",
      "      \"name\": \"Burmese\"\n",
      "    },\n",
      "    {\n",
      "      \"language\": \"nb\",\n",
      "      \"name\": \"Norwegian Bokmal\"\n",
      "    },\n",
      "    {\n",
      "      \"language\": \"ne\",\n",
      "      \"name\": \"Nepali\"\n",
      "    },\n",
      "    {\n",
      "      \"language\": \"nl\",\n",
      "      \"name\": \"Dutch\"\n",
      "    },\n",
      "    {\n",
      "      \"language\": \"nn\",\n",
      "      \"name\": \"Norwegian Nynorsk\"\n",
      "    },\n",
      "    {\n",
      "      \"language\": \"pa\",\n",
      "      \"name\": \"Punjabi\"\n",
      "    },\n",
      "    {\n",
      "      \"language\": \"pa-PK\",\n",
      "      \"name\": \"Punjabi (Shahmukhi script, Pakistan)\"\n",
      "    },\n",
      "    {\n",
      "      \"language\": \"pl\",\n",
      "      \"name\": \"Polish\"\n",
      "    },\n",
      "    {\n",
      "      \"language\": \"ps\",\n",
      "      \"name\": \"Pushto\"\n",
      "    },\n",
      "    {\n",
      "      \"language\": \"pt\",\n",
      "      \"name\": \"Portuguese\"\n",
      "    },\n",
      "    {\n",
      "      \"language\": \"ro\",\n",
      "      \"name\": \"Romanian\"\n",
      "    },\n",
      "    {\n",
      "      \"language\": \"ru\",\n",
      "      \"name\": \"Russian\"\n",
      "    },\n",
      "    {\n",
      "      \"language\": \"si\",\n",
      "      \"name\": \"Sinhala\"\n",
      "    },\n",
      "    {\n",
      "      \"language\": \"sk\",\n",
      "      \"name\": \"Slovakian\"\n",
      "    },\n",
      "    {\n",
      "      \"language\": \"sl\",\n",
      "      \"name\": \"Slovenian\"\n",
      "    },\n",
      "    {\n",
      "      \"language\": \"so\",\n",
      "      \"name\": \"Somali\"\n",
      "    },\n",
      "    {\n",
      "      \"language\": \"sq\",\n",
      "      \"name\": \"Albanian\"\n",
      "    },\n",
      "    {\n",
      "      \"language\": \"sr\",\n",
      "      \"name\": \"Serbian\"\n",
      "    },\n",
      "    {\n",
      "      \"language\": \"sv\",\n",
      "      \"name\": \"Swedish\"\n",
      "    },\n",
      "    {\n",
      "      \"language\": \"ta\",\n",
      "      \"name\": \"Tamil\"\n",
      "    },\n",
      "    {\n",
      "      \"language\": \"te\",\n",
      "      \"name\": \"Telugu\"\n",
      "    },\n",
      "    {\n",
      "      \"language\": \"th\",\n",
      "      \"name\": \"Thai\"\n",
      "    },\n",
      "    {\n",
      "      \"language\": \"tl\",\n",
      "      \"name\": \"Tagalog\"\n",
      "    },\n",
      "    {\n",
      "      \"language\": \"tr\",\n",
      "      \"name\": \"Turkish\"\n",
      "    },\n",
      "    {\n",
      "      \"language\": \"uk\",\n",
      "      \"name\": \"Ukrainian\"\n",
      "    },\n",
      "    {\n",
      "      \"language\": \"ur\",\n",
      "      \"name\": \"Urdu\"\n",
      "    },\n",
      "    {\n",
      "      \"language\": \"vi\",\n",
      "      \"name\": \"Vietnamese\"\n",
      "    },\n",
      "    {\n",
      "      \"language\": \"zh\",\n",
      "      \"name\": \"Simplified Chinese\"\n",
      "    },\n",
      "    {\n",
      "      \"language\": \"zh-TW\",\n",
      "      \"name\": \"Traditional Chinese\"\n",
      "    }\n",
      "  ]\n",
      "}\n"
     ]
    }
   ],
   "source": [
    "# List identifiable languages\n",
    "languages = language_translator.list_identifiable_languages().get_result()\n",
    "print(json.dumps(languages, indent=2))"
   ]
  },
  {
   "cell_type": "code",
   "execution_count": 5,
   "metadata": {},
   "outputs": [
    {
     "name": "stdout",
     "output_type": "stream",
     "text": [
      "Please enter the text you want to translate: میں تم سے بہت پیار کرتا ہوں\n"
     ]
    }
   ],
   "source": [
    "text= input(\"Please enter the text you want to translate: \")"
   ]
  },
  {
   "cell_type": "code",
   "execution_count": 6,
   "metadata": {},
   "outputs": [],
   "source": [
    "# # Identify\n",
    "language = language_translator.identify(text).get_result()"
   ]
  },
  {
   "cell_type": "code",
   "execution_count": 7,
   "metadata": {},
   "outputs": [
    {
     "data": {
      "text/plain": [
       "{'language': 'ur', 'confidence': 0.9999822745343997}"
      ]
     },
     "execution_count": 7,
     "metadata": {},
     "output_type": "execute_result"
    }
   ],
   "source": [
    "# Most Likely Language\n",
    "language['languages'][0]"
   ]
  },
  {
   "cell_type": "code",
   "execution_count": 8,
   "metadata": {},
   "outputs": [],
   "source": [
    "# Checking if the confidence is greater than 95%\n",
    "if language['languages'][0]['confidence'] > 0.95:\n",
    "    language_code = language['languages'][0]['language']\n",
    "else:\n",
    "    print(\"we don't know what the language is, we suspect it might be: \",language['languages'][0]['language'], \"because the confidence is: \",language['languages'][0]['confidence'])"
   ]
  },
  {
   "cell_type": "code",
   "execution_count": 9,
   "metadata": {},
   "outputs": [],
   "source": [
    "# Getting the name of the language from the languages dictionary\n",
    "for i in languages['languages']:\n",
    "    if i['language'] == language_code:\n",
    "        language_name = i['name']"
   ]
  },
  {
   "cell_type": "code",
   "execution_count": 10,
   "metadata": {},
   "outputs": [
    {
     "name": "stdout",
     "output_type": "stream",
     "text": [
      "The language you entered is Urdu\n"
     ]
    }
   ],
   "source": [
    "print(\"The language you entered is\", language_name)"
   ]
  },
  {
   "cell_type": "markdown",
   "metadata": {},
   "source": [
    "## Language Translator"
   ]
  },
  {
   "cell_type": "code",
   "execution_count": 11,
   "metadata": {},
   "outputs": [
    {
     "name": "stdout",
     "output_type": "stream",
     "text": [
      "What language should I translate to?\n",
      "1 Spanish\n",
      "2 French\n",
      "3 Urdu\n",
      "4 Hindi\n",
      "5 Chinese (simplified)\n",
      "6 Arabic\n",
      "7 German\n",
      "8 English\n",
      "9 Italian\n"
     ]
    }
   ],
   "source": [
    "print(f'What language should I translate to?')\n",
    "language_list = ['Spanish','French','Urdu','Hindi','Chinese (simplified)','Arabic','German','English','Italian']\n",
    "for number, language in enumerate(language_list): print(number+1, language)"
   ]
  },
  {
   "cell_type": "code",
   "execution_count": 12,
   "metadata": {},
   "outputs": [
    {
     "name": "stdout",
     "output_type": "stream",
     "text": [
      "Please select a language from the list above. Enter 1-9 to select the language:8\n",
      "You selected English\n"
     ]
    }
   ],
   "source": [
    "while True:\n",
    "    trans_lang_input = input(\"Please select a language from the list above. Enter 1-9 to select the language:\")\n",
    "    try:\n",
    "        n = int(trans_lang_input)\n",
    "    except:\n",
    "        print(\"Invalid input: Please enter a number between 1 and 9\")\n",
    "        continue\n",
    "    if n > 0 and n <10: break\n",
    "    else:\n",
    "        print(\"The number you entered is not within range, please enter a number between 1-9\")\n",
    "lang_to_translate = language_list[n-1]\n",
    "print(f'You selected {lang_to_translate}')"
   ]
  },
  {
   "cell_type": "code",
   "execution_count": 13,
   "metadata": {},
   "outputs": [],
   "source": [
    "# Getting the code of the language from the languages dictionary\n",
    "for i in languages['languages']:\n",
    "    if i['name'] == lang_to_translate:\n",
    "        lang_trans_code = i['language']"
   ]
  },
  {
   "cell_type": "code",
   "execution_count": 14,
   "metadata": {},
   "outputs": [
    {
     "name": "stdout",
     "output_type": "stream",
     "text": [
      "\"I love you so much\"\n"
     ]
    }
   ],
   "source": [
    "## Translate\n",
    "translation = language_translator.translate(\n",
    "    text=text, model_id=language_code +'-'+lang_trans_code).get_result()\n",
    "print(json.dumps(translation['translations'][0]['translation'], indent=2, ensure_ascii=False))"
   ]
  },
  {
   "cell_type": "code",
   "execution_count": null,
   "metadata": {},
   "outputs": [],
   "source": []
  }
 ],
 "metadata": {
  "kernelspec": {
   "display_name": "Python 3",
   "language": "python",
   "name": "python3"
  },
  "language_info": {
   "codemirror_mode": {
    "name": "ipython",
    "version": 3
   },
   "file_extension": ".py",
   "mimetype": "text/x-python",
   "name": "python",
   "nbconvert_exporter": "python",
   "pygments_lexer": "ipython3",
   "version": "3.7.6"
  }
 },
 "nbformat": 4,
 "nbformat_minor": 4
}
